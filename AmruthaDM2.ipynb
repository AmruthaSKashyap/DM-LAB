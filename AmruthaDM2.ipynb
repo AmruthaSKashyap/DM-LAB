{
 "cells": [
  {
   "cell_type": "code",
   "execution_count": 38,
   "id": "3e6869fb-a9ba-4aaa-b1cf-33f95e874331",
   "metadata": {},
   "outputs": [
    {
     "name": "stdout",
     "output_type": "stream",
     "text": [
      "[1, 5]\n",
      "[6, 13]\n",
      "[23, 45]\n",
      "[66, 87]\n"
     ]
    }
   ],
   "source": [
    "def equifreq(d, m):\n",
    "    d.sort()\n",
    "    a = len(d)\n",
    "    n = int(a / m)\n",
    "    bins = []\n",
    "\n",
    "    for i in range(0, m):\n",
    "        bin = []\n",
    "        for j in range(i * n, (i + 1) * n):\n",
    "            if j >= a:\n",
    "                break\n",
    "            bin = bin + [d[j]]\n",
    "        bins.append(bin)\n",
    "\n",
    "    for b in bins:\n",
    "        print(b)\n",
    "     \n",
    "data = [13, 5, 6, 98, 23, 45, 66, 87, 1, 91]\n",
    "m = 4\n",
    "equifreq(data, m)\n"
   ]
  },
  {
   "cell_type": "code",
   "execution_count": 37,
   "id": "b951aada-8737-4349-b389-7126b8e5b082",
   "metadata": {},
   "outputs": [
    {
     "name": "stdout",
     "output_type": "stream",
     "text": [
      "[1, 5]\n",
      "[6, 13]\n",
      "[23, 45]\n",
      "[66, 87]\n",
      "Smoothing by bin mean\n",
      "[3.0, 3.0]\n",
      "[9.5, 9.5]\n",
      "[34.0, 34.0]\n",
      "[76.5, 76.5]\n"
     ]
    }
   ],
   "source": [
    "def equifreq(d, m):\n",
    "    d.sort()\n",
    "    a = len(d)\n",
    "    n = int(a / m)\n",
    "    bins = []\n",
    "\n",
    "    for i in range(0, m):\n",
    "        bin = []\n",
    "        for j in range(i * n, (i + 1) * n):\n",
    "            if j >= a:\n",
    "                break\n",
    "            bin = bin + [d[j]]\n",
    "        bins.append(bin)\n",
    "\n",
    "    for b in bins:\n",
    "        print(b)\n",
    "    print(\"Smoothing by bin mean\")\n",
    "    for b in bins:\n",
    "         mean_value1=sum(b)/len(b)\n",
    "         print([mean_value1]*len(b))\n",
    "\n",
    "data = [13, 5, 6, 98, 23, 45, 66, 87, 1, 91]\n",
    "m = 4\n",
    "equifreq(data, m)"
   ]
  },
  {
   "cell_type": "code",
   "execution_count": 36,
   "id": "51dde02e-01d6-4eba-bb75-452db1d6f5d0",
   "metadata": {},
   "outputs": [
    {
     "name": "stdout",
     "output_type": "stream",
     "text": [
      "[1, 5]\n",
      "[6, 13]\n",
      "[23, 45]\n",
      "[66, 87]\n",
      "Smoothing by bin mean\n",
      "[3.0, 3.0]\n",
      "[9.5, 9.5]\n",
      "[34.0, 34.0]\n",
      "[76.5, 76.5]\n",
      "Smoothing by bin boundaries\n",
      "[1, 5]\n",
      "[6, 13]\n",
      "[23, 45]\n",
      "[66, 87]\n"
     ]
    }
   ],
   "source": [
    "def equifreq(d, m):\n",
    "    d.sort()\n",
    "    a = len(d)\n",
    "    n = int(a / m)\n",
    "    bins = []\n",
    "\n",
    "    for i in range(0, m):\n",
    "        bin = []\n",
    "        for j in range(i * n, (i + 1) * n):\n",
    "            if j >= a:\n",
    "                break\n",
    "            bin = bin + [d[j]]\n",
    "        bins.append(bin)\n",
    "\n",
    "\n",
    "    for b in bins:\n",
    "        print(b)\n",
    "\n",
    "    \n",
    "    print(\"Smoothing by bin mean\")\n",
    "    for b in bins:\n",
    "        mean_value1 = sum(b) / len(b)\n",
    "        print([mean_value1] * len(b))\n",
    "\n",
    "   \n",
    "    print(\"Smoothing by bin boundaries\")\n",
    "    for b in bins:\n",
    "        min_value, max_value = min(b), max(b)\n",
    "        smoothed = []\n",
    "        for value in b:\n",
    "            if (value - min_value) <= (max_value - value):\n",
    "                smoothed.append(min_value)\n",
    "            else:\n",
    "                smoothed.append(max_value)\n",
    "        print(smoothed)\n",
    "\n",
    "data = [13, 5, 6, 98, 23, 45, 66, 87, 1, 91]\n",
    "m = 4\n",
    "equifreq(data, m)\n"
   ]
  },
  {
   "cell_type": "code",
   "execution_count": 42,
   "id": "2938babf-058b-4963-b998-2d0d4583247b",
   "metadata": {},
   "outputs": [
    {
     "name": "stdout",
     "output_type": "stream",
     "text": [
      "Equal-frequency bins:\n",
      "Bin 1 : [1, 5]\n",
      "Bin 2 : [6, 7]\n",
      "Bin 3 : [13, 23]\n",
      "Bin 4 : [37, 45]\n",
      "Bin 5 : [57, 66]\n",
      "Bin 6 : [87, 88]\n",
      "Smoothing by bin mean\n",
      "[3.0, 3.0]\n",
      "[6.5, 6.5]\n",
      "[18.0, 18.0]\n",
      "[41.0, 41.0]\n",
      "[61.5, 61.5]\n",
      "[87.5, 87.5]\n",
      "Smoothing by bin boundaries\n",
      "[1, 5]\n",
      "[6, 7]\n",
      "[13, 23]\n",
      "[37, 45]\n",
      "[57, 66]\n",
      "[87, 88]\n"
     ]
    }
   ],
   "source": [
    "def equifreq(d, m):\n",
    "    d.sort()\n",
    "    a = len(d)\n",
    "    n = int(a / m)\n",
    "    bins = []\n",
    "\n",
    "    for i in range(0, m):\n",
    "        bin = []\n",
    "        for j in range(i * n, (i + 1) * n):\n",
    "            if j >= a:\n",
    "                break\n",
    "            bin = bin + [d[j]]\n",
    "        bins.append(bin)\n",
    "\n",
    "   \n",
    "    print(\"Equal-frequency bins:\")\n",
    "    for i in range(len(bins)):\n",
    "        print(\"Bin\", i + 1, \":\", bins[i])\n",
    "\n",
    "    print(\"Smoothing by bin mean\")\n",
    "    for b in bins:\n",
    "        mean_value1 = sum(b) / len(b)\n",
    "        print([mean_value1] * len(b))\n",
    "\n",
    "    print(\"Smoothing by bin boundaries\")\n",
    "    for b in bins:\n",
    "        min_value, max_value = min(b), max(b)\n",
    "        smoothed = []\n",
    "        for value in b:\n",
    "            if (value - min_value) <= (max_value - value):\n",
    "                smoothed.append(min_value)\n",
    "            else:\n",
    "                smoothed.append(max_value)\n",
    "        print(smoothed)\n",
    "\n",
    "data = [13, 5, 6, 98, 23, 45, 66, 87, 1, 91,37, 57, 88, 7, 99]\n",
    "m = 6\n",
    "equifreq(data, m)\n",
    "\n"
   ]
  },
  {
   "cell_type": "code",
   "execution_count": 45,
   "id": "08490720-f2ea-4fd2-a9f7-78f99c15cb61",
   "metadata": {},
   "outputs": [
    {
     "name": "stdout",
     "output_type": "stream",
     "text": [
      "Equal-frequency bins:\n",
      "Bin 1 : [1, 5]\n",
      "Bin 2 : [6, 7]\n",
      "Bin 3 : [13, 23]\n",
      "Bin 4 : [37, 45]\n",
      "Bin 5 : [57, 66]\n",
      "Bin 6 : [87, 88]\n",
      "Bin 7 : [91, 98]\n",
      "Smoothing by bin mean\n",
      "[3.0, 3.0]\n",
      "[6.5, 6.5]\n",
      "[18.0, 18.0]\n",
      "[41.0, 41.0]\n",
      "[61.5, 61.5]\n",
      "[87.5, 87.5]\n",
      "[94.5, 94.5]\n",
      "Smoothing by bin mode\n",
      "[1, 1]\n",
      "[6, 6]\n",
      "[13, 13]\n",
      "[37, 37]\n",
      "[57, 57]\n",
      "[87, 87]\n",
      "[91, 91]\n",
      "Smoothing by bin boundaries\n",
      "[1, 5]\n",
      "[6, 7]\n",
      "[13, 23]\n",
      "[37, 45]\n",
      "[57, 66]\n",
      "[87, 88]\n",
      "[91, 98]\n"
     ]
    }
   ],
   "source": [
    "import statistics  # add this at the top\n",
    "\n",
    "def equifreq(d, m):\n",
    "    d.sort()\n",
    "    a = len(d)\n",
    "    n = int(a / m)\n",
    "    bins = []\n",
    "    for i in range(0, m):\n",
    "        bin = []\n",
    "        for j in range(i * n, (i + 1) * n):\n",
    "            if j >= a:\n",
    "                break\n",
    "            bin = bin + [d[j]]\n",
    "        bins.append(bin)\n",
    "\n",
    "    print(\"Equal-frequency bins:\")\n",
    "    for i in range(len(bins)):\n",
    "        print(\"Bin\", i + 1, \":\", bins[i])\n",
    "\n",
    "    print(\"Smoothing by bin mean\")\n",
    "    for b in bins:\n",
    "        mean_value1 = sum(b) / len(b)\n",
    "        print([mean_value1] * len(b))\n",
    "        \n",
    "   \n",
    "    print(\"Smoothing by bin mode\")\n",
    "    for b in bins:\n",
    "        modes = statistics.multimode(b)  \n",
    "        mode_value = modes[0] \n",
    "        print([mode_value] * len(b))\n",
    "\n",
    "    print(\"Smoothing by bin boundaries\")\n",
    "    for b in bins:\n",
    "        min_value, max_value = min(b), max(b)\n",
    "        smoothed = []\n",
    "        for value in b:\n",
    "            if (value - min_value) <= (max_value - value):\n",
    "                smoothed.append(min_value)\n",
    "            else:\n",
    "                smoothed.append(max_value)\n",
    "        print(smoothed)\n",
    "\n",
    "data = [13, 5, 6, 98, 23, 45, 66, 87, 1, 91, 37, 57, 88, 7, 99]\n",
    "m = 7\n",
    "equifreq(data, m)\n"
   ]
  },
  {
   "cell_type": "code",
   "execution_count": 8,
   "id": "51ea8bee-8858-4279-92fc-4a7738cd1d72",
   "metadata": {},
   "outputs": [
    {
     "name": "stdout",
     "output_type": "stream",
     "text": [
      "   Reg.NO  Mark Grade\n",
      "0       1    77     A\n",
      "1       2    45     B\n",
      "2       3     5     P\n",
      "3       4    88     A\n",
      "4       5    95     O\n",
      "5       6     9     P\n",
      "6       7    91     O\n",
      "7       8    67     B\n",
      "8       9     2     P\n",
      "9      10    88     A\n"
     ]
    }
   ],
   "source": [
    "import pandas as pd\n",
    "data=pd.read_excel(\"Amrutha.xlsx\")\n",
    "data['Grade']=pd.cut(data['Mark'],\n",
    "                     bins=[0,30,70,90,100],\n",
    "                     labels=['P','B','A','O'])\n",
    "print(data)"
   ]
  },
  {
   "cell_type": "code",
   "execution_count": 12,
   "id": "24b20311-6eef-470a-998c-b1b13c5d190f",
   "metadata": {},
   "outputs": [
    {
     "name": "stdout",
     "output_type": "stream",
     "text": [
      "   RegNO  Mark  Age Grade    age\n",
      "0      1    77   23     A  Adult\n",
      "1      2    45   34     B  Adult\n",
      "2      3     5   20     P   teen\n",
      "3      4    88   19     A   teen\n",
      "4      5    95   17     O   teen\n",
      "5      6     9   26     P  Adult\n",
      "6      7    91   30     O  Adult\n",
      "7      8    67   27     B  Adult\n",
      "8      9     2   16     P   teen\n",
      "9     10    88   24     A  Adult\n"
     ]
    }
   ],
   "source": [
    "import pandas as pd\n",
    "data=pd.read_excel(\"Amrutha.xlsx\")\n",
    "data['Grade']=pd.cut(data['Mark'],\n",
    "                     bins=[0,30,70,90,100],\n",
    "                     labels=['P','B','A','O'])\n",
    "data['age']=pd.cut(data['Age'],\n",
    "                   bins=[4,15,21,55,80],\n",
    "                   labels=['Child','teen','Adult','Senior Citizen'])\n",
    "print(data)"
   ]
  },
  {
   "cell_type": "code",
   "execution_count": null,
   "id": "83b26e02-0de6-4854-9ab2-8188cf43b392",
   "metadata": {},
   "outputs": [],
   "source": []
  }
 ],
 "metadata": {
  "kernelspec": {
   "display_name": "Python 3 (ipykernel)",
   "language": "python",
   "name": "python3"
  },
  "language_info": {
   "codemirror_mode": {
    "name": "ipython",
    "version": 3
   },
   "file_extension": ".py",
   "mimetype": "text/x-python",
   "name": "python",
   "nbconvert_exporter": "python",
   "pygments_lexer": "ipython3",
   "version": "3.11.7"
  }
 },
 "nbformat": 4,
 "nbformat_minor": 5
}
