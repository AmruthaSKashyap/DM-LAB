{
 "cells": [
  {
   "cell_type": "code",
   "execution_count": 17,
   "id": "56c016d5-e4dc-463f-b3a5-77ee67932f5b",
   "metadata": {},
   "outputs": [
    {
     "name": "stdout",
     "output_type": "stream",
     "text": [
      "        Name  Reg.No         DOB  Mark Grade Gender\n",
      "0    Amrutha       1  09/02/2004    80     A      F\n",
      "1   Sinchana       2  13/12/2005    90     B      F\n",
      "2     Varsha       3    2/3/2003    65     C      F\n",
      "3    Deeksha       4   21/3/2004   100     D      F\n",
      "4  Niveditha       5   30/7/2006    97     F      F\n"
     ]
    },
    {
     "data": {
      "text/html": [
       "<div>\n",
       "<style scoped>\n",
       "    .dataframe tbody tr th:only-of-type {\n",
       "        vertical-align: middle;\n",
       "    }\n",
       "\n",
       "    .dataframe tbody tr th {\n",
       "        vertical-align: top;\n",
       "    }\n",
       "\n",
       "    .dataframe thead th {\n",
       "        text-align: right;\n",
       "    }\n",
       "</style>\n",
       "<table border=\"1\" class=\"dataframe\">\n",
       "  <thead>\n",
       "    <tr style=\"text-align: right;\">\n",
       "      <th></th>\n",
       "      <th>Reg.No</th>\n",
       "      <th>Mark</th>\n",
       "      <th>Gender</th>\n",
       "    </tr>\n",
       "  </thead>\n",
       "  <tbody>\n",
       "    <tr>\n",
       "      <th>0</th>\n",
       "      <td>1</td>\n",
       "      <td>80</td>\n",
       "      <td>F</td>\n",
       "    </tr>\n",
       "    <tr>\n",
       "      <th>1</th>\n",
       "      <td>2</td>\n",
       "      <td>90</td>\n",
       "      <td>F</td>\n",
       "    </tr>\n",
       "    <tr>\n",
       "      <th>2</th>\n",
       "      <td>3</td>\n",
       "      <td>65</td>\n",
       "      <td>F</td>\n",
       "    </tr>\n",
       "    <tr>\n",
       "      <th>3</th>\n",
       "      <td>4</td>\n",
       "      <td>100</td>\n",
       "      <td>F</td>\n",
       "    </tr>\n",
       "    <tr>\n",
       "      <th>4</th>\n",
       "      <td>5</td>\n",
       "      <td>97</td>\n",
       "      <td>F</td>\n",
       "    </tr>\n",
       "  </tbody>\n",
       "</table>\n",
       "</div>"
      ],
      "text/plain": [
       "   Reg.No  Mark Gender\n",
       "0       1    80      F\n",
       "1       2    90      F\n",
       "2       3    65      F\n",
       "3       4   100      F\n",
       "4       5    97      F"
      ]
     },
     "metadata": {},
     "output_type": "display_data"
    },
    {
     "data": {
      "text/html": [
       "<div>\n",
       "<style scoped>\n",
       "    .dataframe tbody tr th:only-of-type {\n",
       "        vertical-align: middle;\n",
       "    }\n",
       "\n",
       "    .dataframe tbody tr th {\n",
       "        vertical-align: top;\n",
       "    }\n",
       "\n",
       "    .dataframe thead th {\n",
       "        text-align: right;\n",
       "    }\n",
       "</style>\n",
       "<table border=\"1\" class=\"dataframe\">\n",
       "  <thead>\n",
       "    <tr style=\"text-align: right;\">\n",
       "      <th></th>\n",
       "      <th>Name</th>\n",
       "      <th>Roll.No</th>\n",
       "      <th>DOB</th>\n",
       "      <th>Mark</th>\n",
       "      <th>Grade</th>\n",
       "      <th>Gender</th>\n",
       "    </tr>\n",
       "  </thead>\n",
       "  <tbody>\n",
       "    <tr>\n",
       "      <th>0</th>\n",
       "      <td>Amrutha</td>\n",
       "      <td>1</td>\n",
       "      <td>09/02/2004</td>\n",
       "      <td>80</td>\n",
       "      <td>A</td>\n",
       "      <td>F</td>\n",
       "    </tr>\n",
       "    <tr>\n",
       "      <th>1</th>\n",
       "      <td>Sinchana</td>\n",
       "      <td>2</td>\n",
       "      <td>13/12/2005</td>\n",
       "      <td>90</td>\n",
       "      <td>B</td>\n",
       "      <td>F</td>\n",
       "    </tr>\n",
       "    <tr>\n",
       "      <th>2</th>\n",
       "      <td>Varsha</td>\n",
       "      <td>3</td>\n",
       "      <td>2/3/2003</td>\n",
       "      <td>65</td>\n",
       "      <td>C</td>\n",
       "      <td>F</td>\n",
       "    </tr>\n",
       "    <tr>\n",
       "      <th>3</th>\n",
       "      <td>Deeksha</td>\n",
       "      <td>4</td>\n",
       "      <td>21/3/2004</td>\n",
       "      <td>100</td>\n",
       "      <td>D</td>\n",
       "      <td>F</td>\n",
       "    </tr>\n",
       "    <tr>\n",
       "      <th>4</th>\n",
       "      <td>Niveditha</td>\n",
       "      <td>5</td>\n",
       "      <td>30/7/2006</td>\n",
       "      <td>97</td>\n",
       "      <td>F</td>\n",
       "      <td>F</td>\n",
       "    </tr>\n",
       "  </tbody>\n",
       "</table>\n",
       "</div>"
      ],
      "text/plain": [
       "        Name  Roll.No         DOB  Mark Grade Gender\n",
       "0    Amrutha        1  09/02/2004    80     A      F\n",
       "1   Sinchana        2  13/12/2005    90     B      F\n",
       "2     Varsha        3    2/3/2003    65     C      F\n",
       "3    Deeksha        4   21/3/2004   100     D      F\n",
       "4  Niveditha        5   30/7/2006    97     F      F"
      ]
     },
     "metadata": {},
     "output_type": "display_data"
    },
    {
     "name": "stdout",
     "output_type": "stream",
     "text": [
      "65\n",
      "100\n",
      "86.4\n",
      "90.0\n",
      "0     65\n",
      "1     80\n",
      "2     90\n",
      "3     97\n",
      "4    100\n",
      "Name: Mark, dtype: int64\n",
      "14.223220451079285\n",
      "202.3\n",
      "16.46206070726769\n",
      "0.25    80.0\n",
      "Name: Mark, dtype: float64\n",
      "0.75    97.0\n",
      "Name: Mark, dtype: float64\n",
      "0.5    90.0\n",
      "Name: Mark, dtype: float64\n"
     ]
    }
   ],
   "source": [
    "import pandas as pd\n",
    "df=pd.DataFrame({\"Name\":[\"Amrutha\",\"Sinchana\",\"Varsha\",\"Deeksha\",\"Niveditha\"],\n",
    "                 \"Reg.No\":[1,2,3,4,5],\n",
    "                 \"DOB\":['09/02/2004','13/12/2005','2/3/2003','21/3/2004','30/7/2006'],\n",
    "                 \"Mark\":[80,90,65,100,97],\n",
    "                 \"Grade\":['A','B','C','D','F'],\n",
    "                 \"Gender\":['F','F','F','F','F']})\n",
    "print(df)\n",
    "df.head(3)\n",
    "Result=df.filter(['Reg.No','Mark','Gender'])\n",
    "display(Result)\n",
    "df=df.drop_duplicates()\n",
    "df\n",
    "df=df.dropna()\n",
    "df\n",
    "df=df.rename(columns={'Reg.No':'Roll.No'})\n",
    "display(df)\n",
    "df.describe()\n",
    "min=df['Mark'].min()\n",
    "print(min)\n",
    "max=df['Mark'].max()\n",
    "print(max)\n",
    "mean=df['Mark'].mean()\n",
    "print(mean)\n",
    "median=df['Mark'].median()\n",
    "print(median)\n",
    "mode=df['Mark'].mode()\n",
    "print(mode)\n",
    "stdev=df['Mark'].std()\n",
    "print(stdev)\n",
    "var=df['Mark'].var()\n",
    "print(var)\n",
    "coeff_var=(stdev/mean)*100\n",
    "print(coeff_var)\n",
    "q2=df[\"Mark\"].quantile([.25])\n",
    "print(q2)\n",
    "q2=df[\"Mark\"].quantile([.75])\n",
    "print(q2)\n",
    "q2=df[\"Mark\"].quantile([.5])\n",
    "print(q2)"
   ]
  },
  {
   "cell_type": "code",
   "execution_count": 19,
   "id": "6123b4a6-6087-40d2-9b24-c7fb8bf9533d",
   "metadata": {},
   "outputs": [
    {
     "data": {
      "text/plain": [
       "{'whiskers': [<matplotlib.lines.Line2D at 0x223eb5daf50>,\n",
       "  <matplotlib.lines.Line2D at 0x223eb5dbb50>],\n",
       " 'caps': [<matplotlib.lines.Line2D at 0x223eb5ec7d0>,\n",
       "  <matplotlib.lines.Line2D at 0x223eb5ed690>],\n",
       " 'boxes': [<matplotlib.lines.Line2D at 0x223eb2e6cd0>],\n",
       " 'medians': [<matplotlib.lines.Line2D at 0x223eb5ee150>],\n",
       " 'fliers': [<matplotlib.lines.Line2D at 0x223eb5eeb90>],\n",
       " 'means': []}"
      ]
     },
     "execution_count": 19,
     "metadata": {},
     "output_type": "execute_result"
    },
    {
     "data": {
      "image/png": "[encoded data removed]",
      "text/plain": [
       "<Figure size 640x480 with 1 Axes>"
      ]
     },
     "metadata": {},
     "output_type": "display_data"
    }
   ],
   "source": [
    "import matplotlib.pyplot as plt\n",
    "plt.boxplot(df['Mark'])"
   ]
  },
  {
   "cell_type": "code",
   "execution_count": 22,
   "id": "f2916fa2-7284-449c-8f8f-7d9d6d81a9df",
   "metadata": {},
   "outputs": [
    {
     "name": "stderr",
     "output_type": "stream",
     "text": [
      "C:\\ProgramData\\anaconda3\\Lib\\site-packages\\seaborn\\_oldcore.py:1119: FutureWarning: use_inf_as_na option is deprecated and will be removed in a future version. Convert inf values to NaN before operating instead.\n",
      "  with pd.option_context('mode.use_inf_as_na', True):\n"
     ]
    },
    {
     "data": {
      "text/plain": [
       "<Axes: xlabel='Mark', ylabel='Count'>"
      ]
     },
     "execution_count": 22,
     "metadata": {},
     "output_type": "execute_result"
    },
    {
     "data": {
      "image/png": "[encoded data removed]",
      "text/plain": [
       "<Figure size 640x480 with 1 Axes>"
      ]
     },
     "metadata": {},
     "output_type": "display_data"
    }
   ],
   "source": [
    "import seaborn as sns\n",
    "import matplotlib.pyplot as plt\n",
    "sns.histplot(df['Mark'])"
   ]
  },
  {
   "cell_type": "code",
   "execution_count": 23,
   "id": "6bc81a28-9e5d-456d-9456-1fa456ad6200",
   "metadata": {},
   "outputs": [
    {
     "data": {
      "text/plain": [
       "<Axes: xlabel='Name', ylabel='Mark'>"
      ]
     },
     "execution_count": 23,
     "metadata": {},
     "output_type": "execute_result"
    },
    {
     "data": {
      "image/png": "[encoded data removed]",
      "text/plain": [
       "<Figure size 1000x500 with 1 Axes>"
      ]
     },
     "metadata": {},
     "output_type": "display_data"
    }
   ],
   "source": [
    "plt.figure(figsize=(10,5))\n",
    "sns.barplot(x=df['Name'], y=df['Mark'])"
   ]
  },
  {
   "cell_type": "code",
   "execution_count": null,
   "id": "64d50b99-a8f0-4c03-90e9-d9f0b7816a82",
   "metadata": {},
   "outputs": [],
   "source": []
  }
 ],
 "metadata": {
  "kernelspec": {
   "display_name": "Python 3 (ipykernel)",
   "language": "python",
   "name": "python3"
  },
  "language_info": {
   "codemirror_mode": {
    "name": "ipython",
    "version": 3
   },
   "file_extension": ".py",
   "mimetype": "text/x-python",
   "name": "python",
   "nbconvert_exporter": "python",
   "pygments_lexer": "ipython3",
   "version": "3.11.7"
  }
 },
 "nbformat": 4,
 "nbformat_minor": 5
}
